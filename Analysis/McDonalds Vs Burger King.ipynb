{
 "cells": [
  {
   "cell_type": "markdown",
   "metadata": {
    "application/vnd.databricks.v1+cell": {
     "cellMetadata": {},
     "inputWidgets": {},
     "nuid": "8fd3fad0-ea04-45c1-b88a-ebe609e19634",
     "showTitle": false,
     "tableResultSettingsMap": {},
     "title": ""
    }
   },
   "source": [
    "# Mcdonald vs Burger king\n",
    "A Financial & Operational Showdown Between Burger King and McDonald’s (2021–2023)\n",
    "\n",
    "## About Dataset\n",
    "This project compares the financial performance and business strategies of Burger King and McDonald’s between 2021 and 2023.\n",
    "\n",
    "The workflow began with raw data for both companies, which was cleaned and structured in Excel. Once cleaned, the datasets were converted into CSV files for use in Python. Using Python (with Pandas), the data was transformed, aggregated, and prepared for visualization."
   ]
  },
  {
   "cell_type": "markdown",
   "metadata": {
    "application/vnd.databricks.v1+cell": {
     "cellMetadata": {},
     "inputWidgets": {},
     "nuid": "2e679253-dfad-43d5-b3cb-ff41174a7b65",
     "showTitle": false,
     "tableResultSettingsMap": {},
     "title": ""
    }
   },
   "source": [
    "# Data: Burger King - Global Sales Performance (2021 - 2023)\n",
    "**Description:** This CSV file contains aggregated annual performance metrics for Burger King from 2021 to 2023, segmented by metric type and region scope (Global/U.S.)."
   ]
  },
  {
   "cell_type": "code",
   "execution_count": 0,
   "metadata": {
    "application/vnd.databricks.v1+cell": {
     "cellMetadata": {
      "byteLimit": 2048000,
      "rowLimit": 10000
     },
     "inputWidgets": {},
     "nuid": "81670ee5-8b2c-4771-9505-98b4fb2a983e",
     "showTitle": false,
     "tableResultSettingsMap": {},
     "title": ""
    }
   },
   "outputs": [],
   "source": [
    "df_bk = spark.read.format(\"csv\").option(\"header\", \"true\").load(\"/Volumes/workspace/my_data/performance_analysis/bk.csv\")\n",
    "display(df_bk)"
   ]
  },
  {
   "cell_type": "markdown",
   "metadata": {
    "application/vnd.databricks.v1+cell": {
     "cellMetadata": {},
     "inputWidgets": {},
     "nuid": "18b134b8-596b-4892-9879-55014efef23d",
     "showTitle": false,
     "tableResultSettingsMap": {},
     "title": ""
    }
   },
   "source": [
    "# Data: McDonalds - Global Sales Performance (2021 - 2023)\n",
    "**Description:** This CSV file contains aggregated annual performance metrics for McDonalds from 2021 to 2023, segmented by metric type and region scope (Global/U.S.)."
   ]
  },
  {
   "cell_type": "code",
   "execution_count": 0,
   "metadata": {
    "application/vnd.databricks.v1+cell": {
     "cellMetadata": {
      "byteLimit": 2048000,
      "rowLimit": 10000
     },
     "inputWidgets": {},
     "nuid": "3f4148af-5725-4f4a-9af6-9b0684ba59a7",
     "showTitle": false,
     "tableResultSettingsMap": {},
     "title": ""
    }
   },
   "outputs": [],
   "source": [
    "df_mcd = spark.read.format(\"csv\").option(\"header\", \"true\").load(\"/Volumes/workspace/my_data/performance_analysis/mcd.csv\")\n",
    "display(df_mcd)"
   ]
  },
  {
   "cell_type": "code",
   "execution_count": 0,
   "metadata": {
    "application/vnd.databricks.v1+cell": {
     "cellMetadata": {},
     "inputWidgets": {},
     "nuid": "0450e63b-54e6-4e24-aeca-6569b907d60a",
     "showTitle": false,
     "tableResultSettingsMap": {},
     "title": ""
    }
   },
   "outputs": [],
   "source": []
  }
 ],
 "metadata": {
  "application/vnd.databricks.v1+notebook": {
   "computePreferences": null,
   "dashboards": [],
   "environmentMetadata": {
    "base_environment": "",
    "environment_version": "2"
   },
   "inputWidgetPreferences": null,
   "language": "python",
   "notebookMetadata": {
    "pythonIndentUnit": 4
   },
   "notebookName": "McDonalds Vs Burger King",
   "widgets": {}
  },
  "language_info": {
   "name": "python"
  }
 },
 "nbformat": 4,
 "nbformat_minor": 0
}
