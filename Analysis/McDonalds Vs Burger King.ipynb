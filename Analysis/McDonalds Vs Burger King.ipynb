{
 "cells": [
  {
   "cell_type": "markdown",
   "metadata": {
    "application/vnd.databricks.v1+cell": {
     "cellMetadata": {
      "byteLimit": 2048000,
      "rowLimit": 10000
     },
     "inputWidgets": {},
     "nuid": "8fd3fad0-ea04-45c1-b88a-ebe609e19634",
     "showTitle": false,
     "tableResultSettingsMap": {},
     "title": ""
    }
   },
   "source": [
    "# Introduction - Mcdonald vs Burger king\n",
    "**Kaggle Link -** [Mcdonald vs Burger king - Kaggle](https://www.kaggle.com/datasets/harishthakur995/mcdonald-vs-burger-king)\n",
    "\n",
    "![Image](https://storage.googleapis.com/kaggle-datasets-images/7688924/12205840/d700ceda9b4053c473d75f12ec83ac32/dataset-cover.png?t=2025-06-18-11-23-44)\n",
    "\n",
    "A Financial & Operational Showdown Between Burger King and McDonald’s (2021–2023)\n",
    "\n",
    "## About Dataset\n",
    "McDonald’s and Burger King are two of the biggest names in the global fast-food industry, each with its own loyal fan base. McDonald’s, known for its iconic Big Mac, fries, and efficient service, emphasizes consistency and speed. Burger King, on the other hand, prides itself on flame-grilled burgers like the Whopper and a “have it your way” customization approach. While McDonald’s leads in global reach and revenue, Burger King often focuses on bold marketing and innovation to stand out. Both offer value menus and breakfast options, but differ in taste, menu variety, pricing, and brand experience.\n",
    "\n",
    "This project compares the financial performance and business strategies of Burger King and McDonald’s between 2021 and 2023."
   ]
  },
  {
   "cell_type": "markdown",
   "metadata": {
    "application/vnd.databricks.v1+cell": {
     "cellMetadata": {
      "byteLimit": 2048000,
      "rowLimit": 10000
     },
     "inputWidgets": {},
     "nuid": "a8e37de4-2a50-4492-8005-abf9a8672e51",
     "showTitle": false,
     "tableResultSettingsMap": {},
     "title": ""
    }
   },
   "source": [
    "# Import data"
   ]
  },
  {
   "cell_type": "markdown",
   "metadata": {
    "application/vnd.databricks.v1+cell": {
     "cellMetadata": {
      "byteLimit": 2048000,
      "rowLimit": 10000
     },
     "inputWidgets": {},
     "nuid": "2e679253-dfad-43d5-b3cb-ff41174a7b65",
     "showTitle": false,
     "tableResultSettingsMap": {},
     "title": ""
    }
   },
   "source": [
    "## Data: Burger King - Global Sales Performance (2021 - 2023)\n",
    "**Description:** This CSV file contains aggregated annual performance metrics for Burger King from 2021 to 2023, segmented by metric type and region scope (Global/U.S.)."
   ]
  },
  {
   "cell_type": "code",
   "execution_count": 0,
   "metadata": {
    "application/vnd.databricks.v1+cell": {
     "cellMetadata": {
      "byteLimit": 2048000,
      "rowLimit": 10000
     },
     "inputWidgets": {},
     "nuid": "81670ee5-8b2c-4771-9505-98b4fb2a983e",
     "showTitle": false,
     "tableResultSettingsMap": {},
     "title": ""
    }
   },
   "outputs": [],
   "source": [
    "df_bk = spark.read.format(\"csv\").option(\"header\", \"true\").load(\"/Volumes/workspace/my_data/performance_analysis/bk.csv\")\n",
    "display(df_bk)"
   ]
  },
  {
   "cell_type": "markdown",
   "metadata": {
    "application/vnd.databricks.v1+cell": {
     "cellMetadata": {
      "byteLimit": 2048000,
      "rowLimit": 10000
     },
     "inputWidgets": {},
     "nuid": "18b134b8-596b-4892-9879-55014efef23d",
     "showTitle": false,
     "tableResultSettingsMap": {},
     "title": ""
    }
   },
   "source": [
    "## Data: McDonalds - Global Sales Performance (2021 - 2023)\n",
    "**Description:** This CSV file contains aggregated annual performance metrics for McDonalds from 2021 to 2023, segmented by metric type and region scope (Global/U.S.)."
   ]
  },
  {
   "cell_type": "code",
   "execution_count": 0,
   "metadata": {
    "application/vnd.databricks.v1+cell": {
     "cellMetadata": {
      "byteLimit": 2048000,
      "rowLimit": 10000
     },
     "inputWidgets": {},
     "nuid": "3f4148af-5725-4f4a-9af6-9b0684ba59a7",
     "showTitle": false,
     "tableResultSettingsMap": {},
     "title": ""
    }
   },
   "outputs": [],
   "source": [
    "df_mcd = spark.read.format(\"csv\").option(\"header\", \"true\").load(\"/Volumes/workspace/my_data/performance_analysis/mcd.csv\")\n",
    "display(df_mcd)"
   ]
  },
  {
   "cell_type": "markdown",
   "metadata": {
    "application/vnd.databricks.v1+cell": {
     "cellMetadata": {
      "byteLimit": 2048000,
      "rowLimit": 10000
     },
     "inputWidgets": {},
     "nuid": "7a2dc8be-66ab-4858-890d-bfb7e7ba651c",
     "showTitle": false,
     "tableResultSettingsMap": {},
     "title": ""
    }
   },
   "source": [
    "# Explore data"
   ]
  },
  {
   "cell_type": "markdown",
   "metadata": {
    "application/vnd.databricks.v1+cell": {
     "cellMetadata": {
      "byteLimit": 2048000,
      "rowLimit": 10000
     },
     "inputWidgets": {},
     "nuid": "1f29ca5d-d113-4c88-bb9b-d5a3401213eb",
     "showTitle": false,
     "tableResultSettingsMap": {},
     "title": ""
    }
   },
   "source": [
    "## Burger King"
   ]
  },
  {
   "cell_type": "markdown",
   "metadata": {
    "application/vnd.databricks.v1+cell": {
     "cellMetadata": {
      "byteLimit": 2048000,
      "rowLimit": 10000
     },
     "inputWidgets": {},
     "nuid": "773c773d-3b92-4336-adeb-76295a5695cd",
     "showTitle": false,
     "tableResultSettingsMap": {},
     "title": ""
    }
   },
   "source": [
    "Distinct items:"
   ]
  },
  {
   "cell_type": "code",
   "execution_count": 0,
   "metadata": {
    "application/vnd.databricks.v1+cell": {
     "cellMetadata": {
      "byteLimit": 2048000,
      "rowLimit": 10000
     },
     "inputWidgets": {},
     "nuid": "0450e63b-54e6-4e24-aeca-6569b907d60a",
     "showTitle": false,
     "tableResultSettingsMap": {},
     "title": ""
    }
   },
   "outputs": [],
   "source": [
    "display(df_bk.select(\"item\").distinct())"
   ]
  },
  {
   "cell_type": "markdown",
   "metadata": {
    "application/vnd.databricks.v1+cell": {
     "cellMetadata": {
      "byteLimit": 2048000,
      "rowLimit": 10000
     },
     "inputWidgets": {},
     "nuid": "71c3400d-1fc1-4639-bba0-f167328b0634",
     "showTitle": false,
     "tableResultSettingsMap": {},
     "title": ""
    }
   },
   "source": [
    "Distinct categories:"
   ]
  },
  {
   "cell_type": "code",
   "execution_count": 0,
   "metadata": {
    "application/vnd.databricks.v1+cell": {
     "cellMetadata": {
      "byteLimit": 2048000,
      "rowLimit": 10000
     },
     "inputWidgets": {},
     "nuid": "573844a9-7f63-4813-ac50-bb13fd3b20d1",
     "showTitle": false,
     "tableResultSettingsMap": {},
     "title": ""
    }
   },
   "outputs": [],
   "source": [
    "display(df_bk.select(\"global_us_usc\").distinct())"
   ]
  },
  {
   "cell_type": "markdown",
   "metadata": {
    "application/vnd.databricks.v1+cell": {
     "cellMetadata": {
      "byteLimit": 2048000,
      "rowLimit": 10000
     },
     "inputWidgets": {},
     "nuid": "088a8df1-5628-4e15-9461-8284164e33a1",
     "showTitle": false,
     "tableResultSettingsMap": {},
     "title": ""
    }
   },
   "source": [
    "## McDonalds"
   ]
  },
  {
   "cell_type": "markdown",
   "metadata": {
    "application/vnd.databricks.v1+cell": {
     "cellMetadata": {
      "byteLimit": 2048000,
      "rowLimit": 10000
     },
     "inputWidgets": {},
     "nuid": "c70e34c9-cf1a-4580-bae5-f4488418cc4f",
     "showTitle": false,
     "tableResultSettingsMap": {},
     "title": ""
    }
   },
   "source": [
    "Distinct table_name:"
   ]
  },
  {
   "cell_type": "code",
   "execution_count": 0,
   "metadata": {
    "application/vnd.databricks.v1+cell": {
     "cellMetadata": {
      "byteLimit": 2048000,
      "rowLimit": 10000
     },
     "inputWidgets": {},
     "nuid": "3f4a2540-e0c5-41d3-8ef5-1195fb0080c6",
     "showTitle": false,
     "tableResultSettingsMap": {},
     "title": ""
    }
   },
   "outputs": [],
   "source": [
    "display(df_mcd.select(\"table_name\").distinct())"
   ]
  },
  {
   "cell_type": "markdown",
   "metadata": {
    "application/vnd.databricks.v1+cell": {
     "cellMetadata": {
      "byteLimit": 2048000,
      "rowLimit": 10000
     },
     "inputWidgets": {},
     "nuid": "e814c62f-64bf-464b-90ff-da381de09d92",
     "showTitle": false,
     "tableResultSettingsMap": {},
     "title": ""
    }
   },
   "source": [
    "Distinct heading:"
   ]
  },
  {
   "cell_type": "code",
   "execution_count": 0,
   "metadata": {
    "application/vnd.databricks.v1+cell": {
     "cellMetadata": {
      "byteLimit": 2048000,
      "rowLimit": 10000
     },
     "inputWidgets": {},
     "nuid": "8f6fe1bc-a659-4d67-8ca2-6307bf97e4b1",
     "showTitle": false,
     "tableResultSettingsMap": {},
     "title": ""
    }
   },
   "outputs": [],
   "source": [
    "display(df_mcd.select(\"heading\").distinct())"
   ]
  },
  {
   "cell_type": "code",
   "execution_count": 0,
   "metadata": {
    "application/vnd.databricks.v1+cell": {
     "cellMetadata": {
      "byteLimit": 2048000,
      "rowLimit": 10000
     },
     "inputWidgets": {},
     "nuid": "3988594d-7a85-4328-8f40-a8f6ff3f5589",
     "showTitle": false,
     "tableResultSettingsMap": {},
     "title": ""
    }
   },
   "outputs": [],
   "source": [
    "display(df_mcd.select(\"item\").distinct())"
   ]
  },
  {
   "cell_type": "markdown",
   "metadata": {
    "application/vnd.databricks.v1+cell": {
     "cellMetadata": {
      "byteLimit": 2048000,
      "rowLimit": 10000
     },
     "inputWidgets": {},
     "nuid": "a51d5bab-5c88-4247-93dc-c15acaf20f84",
     "showTitle": false,
     "tableResultSettingsMap": {},
     "title": ""
    }
   },
   "source": [
    "# Prediction"
   ]
  },
  {
   "cell_type": "markdown",
   "metadata": {
    "application/vnd.databricks.v1+cell": {
     "cellMetadata": {
      "byteLimit": 2048000,
      "rowLimit": 10000
     },
     "inputWidgets": {},
     "nuid": "fcbda87a-8f5e-4782-b62a-d03ecee7757a",
     "showTitle": false,
     "tableResultSettingsMap": {},
     "title": ""
    }
   },
   "source": [
    "## McDonalds"
   ]
  },
  {
   "cell_type": "markdown",
   "metadata": {
    "application/vnd.databricks.v1+cell": {
     "cellMetadata": {
      "byteLimit": 2048000,
      "rowLimit": 10000
     },
     "inputWidgets": {},
     "nuid": "84a9edae-ca8f-448b-b141-d53b700dbf52",
     "showTitle": false,
     "tableResultSettingsMap": {},
     "title": ""
    }
   },
   "source": [
    "Encoding the categorical variables"
   ]
  },
  {
   "cell_type": "code",
   "execution_count": 0,
   "metadata": {
    "application/vnd.databricks.v1+cell": {
     "cellMetadata": {
      "byteLimit": 2048000,
      "rowLimit": 10000
     },
     "inputWidgets": {},
     "nuid": "211f4720-bfa6-40be-861b-c20f14b23424",
     "showTitle": false,
     "tableResultSettingsMap": {},
     "title": ""
    }
   },
   "outputs": [],
   "source": [
    "from pyspark.sql.functions import to_date, col\n",
    "df_mcd = df_mcd.\\\n",
    "  withColumn(\"Date\", to_date(df_mcd.Date, \"MM/dd/yyyy\")).\\\n",
    "  withColumn(\"value\", df_mcd[\"value\"].cast(\"double\"))\n",
    "\n",
    "from pyspark.sql.functions import udf\n",
    "from pyspark.sql.types import IntegerType\n",
    "\n",
    "# 1. Collect distinct categories to build mappings (if not already known)\n",
    "table_name_map = {row.table_name: idx for idx, row in enumerate(df_mcd.select(\"table_name\").distinct().collect())}\n",
    "heading_map = {row.heading: idx for idx, row in enumerate(df_mcd.select(\"heading\").distinct().collect())}\n",
    "\n",
    "# 2. Define UDFs for each column using the created maps\n",
    "@udf(IntegerType())\n",
    "def encode_table_name(category):\n",
    "    return table_name_map.get(category, -1) # -1 for unknown/unmapped\n",
    "\n",
    "@udf(IntegerType())\n",
    "def encode_heading(category):\n",
    "    return heading_map.get(category, -1)\n",
    "\n",
    "# 3. Apply UDFs using withColumn\n",
    "df_mcd = df_mcd.withColumn(\"table_name_encoded\", encode_table_name(col(\"table_name\")))\n",
    "df_mcd = df_mcd.withColumn(\"heading_encoded\", encode_heading(col(\"heading\")))\n",
    "\n",
    "display(df_mcd)"
   ]
  },
  {
   "cell_type": "code",
   "execution_count": 0,
   "metadata": {
    "application/vnd.databricks.v1+cell": {
     "cellMetadata": {
      "byteLimit": 2048000,
      "rowLimit": 10000
     },
     "inputWidgets": {},
     "nuid": "18a325d4-bdb0-49c6-b788-879ed0b21776",
     "showTitle": false,
     "tableResultSettingsMap": {},
     "title": ""
    }
   },
   "outputs": [],
   "source": [
    "from pyspark.sql import SparkSession\n",
    "from pyspark.ml.feature import StringIndexer, VectorAssembler\n",
    "from pyspark.ml.regression import DecisionTreeRegressor\n",
    "from pyspark.ml.evaluation import RegressionEvaluator\n",
    "from pyspark.ml import Pipeline\n",
    "\n",
    "# Assemble feature columns\n",
    "assembler = VectorAssembler(\n",
    "    inputCols=[\"table_name_encoded\", \"heading_encoded\", \"value\"],\n",
    "    outputCol=\"features\"\n",
    ")\n",
    "assembled_df = assembler.transform(df_mcd)\n",
    "\n",
    "# Split the data into training and test sets\n",
    "train_data, test_data = assembled_df.randomSplit([0.8, 0.2], seed=42)\n",
    "\n",
    "# Create DecisionTreeRegressor model\n",
    "dt = DecisionTreeRegressor(featuresCol=\"features\", labelCol=\"item\", maxDepth=5)\n",
    "\n",
    "# Fit the model\n",
    "model = dt.fit(train_data)\n",
    "\n",
    "# Make predictions\n",
    "predictions = model.transform(test_data)\n",
    "\n",
    "# Evaluate the model\n",
    "evaluator = RegressionEvaluator(\n",
    "    labelCol=\"item\",\n",
    "    predictionCol=\"prediction\",\n",
    "    metricName=\"rmse\"\n",
    ")\n",
    "rmse = evaluator.evaluate(predictions)\n",
    "\n",
    "rmse"
   ]
  }
 ],
 "metadata": {
  "application/vnd.databricks.v1+notebook": {
   "computePreferences": {
    "hardware": {
     "accelerator": null,
     "gpuPoolId": null,
     "memory": "STANDARD"
    }
   },
   "dashboards": [],
   "environmentMetadata": {
    "base_environment": "",
    "environment_version": "2"
   },
   "inputWidgetPreferences": null,
   "language": "python",
   "notebookMetadata": {
    "pythonIndentUnit": 4
   },
   "notebookName": "McDonalds Vs Burger King",
   "widgets": {}
  },
  "language_info": {
   "name": "python"
  }
 },
 "nbformat": 4,
 "nbformat_minor": 0
}
